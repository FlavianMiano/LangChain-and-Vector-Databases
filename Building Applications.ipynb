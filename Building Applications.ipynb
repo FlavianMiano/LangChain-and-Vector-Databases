{
 "cells": [
  {
   "cell_type": "markdown",
   "id": "f105e07d",
   "metadata": {},
   "source": [
    "# Building Applications Powered by LLMs with LangChain"
   ]
  },
  {
   "cell_type": "code",
   "execution_count": 2,
   "id": "92960dd0",
   "metadata": {},
   "outputs": [
    {
     "data": {
      "text/plain": [
       "True"
      ]
     },
     "execution_count": 2,
     "metadata": {},
     "output_type": "execute_result"
    }
   ],
   "source": [
    "from dotenv import load_dotenv\n",
    "\n",
    "# Load environment variables from .env file\n",
    "load_dotenv()"
   ]
  },
  {
   "cell_type": "markdown",
   "id": "91548d0e",
   "metadata": {},
   "source": [
    "## Chat-Based Assistant"
   ]
  },
  {
   "cell_type": "code",
   "execution_count": 3,
   "id": "448bf6f2",
   "metadata": {},
   "outputs": [
    {
     "name": "stdout",
     "output_type": "stream",
     "text": [
      "Inception is a 2010 science fiction action film directed by Christopher Nolan. The movie stars Leonardo DiCaprio, Ellen Page, Joseph Gordon-Levitt, Tom Hardy, Ken Watanabe, Dileep Rao, Cillian Murphy, Tom Berenger, and Michael Caine. The plot follows a professional thief who steals information by infiltrating the subconscious of his targets. He is offered a chance to have his criminal history erased as payment for performing an inception, the act of planting an idea into someone's mind. The film was a critical and commercial success, grossing over $828 million worldwide and receiving numerous accolades, including four Academy Awards.\n"
     ]
    }
   ],
   "source": [
    "from langchain.chat_models import ChatOpenAI\n",
    "from langchain.prompts.chat import (\n",
    "    ChatPromptTemplate,\n",
    "    SystemMessagePromptTemplate,\n",
    "    HumanMessagePromptTemplate,\n",
    ")\n",
    "\n",
    "# Before executing the following code, make sure to have\n",
    "# your OpenAI key saved in the “OPENAI_API_KEY” environment variable.\n",
    "chat = ChatOpenAI(model_name=\"gpt-3.5-turbo\", temperature=0)\n",
    "\n",
    "template = \"You are an assistant that helps users find information about movies.\"\n",
    "system_message_prompt = SystemMessagePromptTemplate.from_template(template)\n",
    "human_template = \"Find information about the movie {movie_title}.\"\n",
    "human_message_prompt = HumanMessagePromptTemplate.from_template(human_template)\n",
    "\n",
    "chat_prompt = ChatPromptTemplate.from_messages([system_message_prompt, human_message_prompt])\n",
    "\n",
    "response = chat(chat_prompt.format_prompt(movie_title=\"Inception\").to_messages())\n",
    "\n",
    "print(response.content)"
   ]
  },
  {
   "cell_type": "markdown",
   "id": "0146672c",
   "metadata": {},
   "source": [
    "## Summarization example"
   ]
  },
  {
   "cell_type": "code",
   "execution_count": 11,
   "id": "54fe85b4",
   "metadata": {},
   "outputs": [
    {
     "name": "stdout",
     "output_type": "stream",
     "text": [
      " Flavian Miano is a Data Scientist, Machine Learning Specialist, Data Visualization, and Data Analyst from Ruiru, Kiambu County, Nairobi, Kenya. He has experience in building and managing websites, formulating business questions, solving complex business problems, creating stories to explain insights, analyzing clients' transactions, web scraping, creating classifications models, and preparing powerpoint presentations. He also has certifications in Tableau from Simplilearn and from the Tata Group of Companies, British Airways, and Quantum Company. His skills include Python, SQL, Tableau, Tensor Flow, Machine Learning Algorithms, Statistics and Probability, Problem Solving, Critical Thinking, Teamwork, Communication, and Presentation. He speaks English, Kiswahili, and Kikuyu.\n"
     ]
    }
   ],
   "source": [
    "# Import necessary modules\n",
    "from langchain import OpenAI, PromptTemplate\n",
    "from langchain.chains.summarize import load_summarize_chain\n",
    "from langchain.document_loaders import PyPDFLoader\n",
    "\n",
    "# Initialize language model\n",
    "llm = OpenAI(model_name=\"text-davinci-003\", temperature=0)\n",
    "\n",
    "# Load the summarization chain\n",
    "summarize_chain = load_summarize_chain(llm)\n",
    "\n",
    "# Load the document using PyPDFLoader\n",
    "#document_loader = PyPDFLoader(file_path=r\"C:\\Users\\User\\Desktop\\langchain course\\Flavian Miano Resume.pdf\")\n",
    "\n",
    "document = PyPDFLoader(file_path=r\"C:\\Users\\User\\Desktop\\langchain course\\Flavian Miano Resume.pdf\").load()\n",
    "\n",
    "#document = document_loader.load()\n",
    "\n",
    "# Summarize the document\n",
    "summary = summarize_chain(document)\n",
    "print(summary['output_text'])"
   ]
  },
  {
   "cell_type": "markdown",
   "id": "67d03c8c",
   "metadata": {},
   "source": [
    "## QA chain"
   ]
  },
  {
   "cell_type": "code",
   "execution_count": 12,
   "id": "5429dc81",
   "metadata": {},
   "outputs": [],
   "source": [
    "from langchain.prompts import PromptTemplate\n",
    "from langchain.chains import LLMChain\n",
    "from langchain.llms import OpenAI\n",
    "\n",
    "prompt = PromptTemplate(template=\"Question: {question}\\nAnswer:\", input_variables=[\"question\"])\n",
    "\n",
    "llm = OpenAI(model_name=\"text-davinci-003\", temperature=0)\n",
    "\n",
    "chain = LLMChain(llm=llm, prompt=prompt)"
   ]
  },
  {
   "cell_type": "code",
   "execution_count": 13,
   "id": "65917361",
   "metadata": {},
   "outputs": [
    {
     "data": {
      "text/plain": [
       "' The meaning of life is subjective and can vary from person to person. For some, it may be to find happiness and fulfillment, while for others it may be to make a difference in the world. Ultimately, the meaning of life is up to each individual to decide.'"
      ]
     },
     "execution_count": 13,
     "metadata": {},
     "output_type": "execute_result"
    }
   ],
   "source": [
    "chain.run(\"what is the meaning of life?\")"
   ]
  },
  {
   "cell_type": "markdown",
   "id": "f1033e10",
   "metadata": {},
   "source": [
    "##  example of using ChatOpenAI with a HumanMessage"
   ]
  },
  {
   "cell_type": "code",
   "execution_count": 29,
   "id": "b2cff275",
   "metadata": {},
   "outputs": [
    {
     "data": {
      "text/plain": [
       "AIMessage(content='Ninapenda programu.', additional_kwargs={}, example=False)"
      ]
     },
     "execution_count": 29,
     "metadata": {},
     "output_type": "execute_result"
    }
   ],
   "source": [
    "from langchain.chat_models import ChatOpenAI\n",
    "from langchain.schema import (\n",
    "  HumanMessage,\n",
    "  SystemMessage\n",
    ")\n",
    "\n",
    "chat = ChatOpenAI(model_name=\"gpt-3.5-turbo\", temperature=0)\n",
    "\n",
    "messages = [\n",
    "\tSystemMessage(content=\"You are a helpful assistant that translates English to Swahili.\"),\n",
    "\tHumanMessage(content=\"Translate the following sentence: I love programming.\")\n",
    "]\n",
    "\n",
    "chat(messages)"
   ]
  },
  {
   "cell_type": "code",
   "execution_count": 31,
   "id": "36ddd70e",
   "metadata": {},
   "outputs": [
    {
     "name": "stdout",
     "output_type": "stream",
     "text": [
      "generations=[[ChatGeneration(text=\"J'aime programmer.\", generation_info=None, message=AIMessage(content=\"J'aime programmer.\", additional_kwargs={}, example=False))], [ChatGeneration(text='Ninapenda programu.', generation_info=None, message=AIMessage(content='Ninapenda programu.', additional_kwargs={}, example=False))]] llm_output={'token_usage': {'prompt_tokens': 71, 'completion_tokens': 12, 'total_tokens': 83}, 'model_name': 'gpt-3.5-turbo'} run=RunInfo(run_id=UUID('e5925b44-7034-43bd-b901-e383fbc778ff'))\n"
     ]
    }
   ],
   "source": [
    "batch_messages = [\n",
    "  [\n",
    "    SystemMessage(content=\"You are a helpful assistant that translates English to French.\"),\n",
    "    HumanMessage(content=\"Translate the following sentence: I love programming.\")\n",
    "  ],\n",
    "  [\n",
    "    SystemMessage(content=\"You are a helpful assistant that translates French to Swahili.\"),\n",
    "    HumanMessage(content=\"Translate the following sentence: J'aime la programmation.\")\n",
    "  ],\n",
    "]\n",
    "print( chat.generate(batch_messages) )"
   ]
  },
  {
   "cell_type": "code",
   "execution_count": null,
   "id": "449d62fc",
   "metadata": {},
   "outputs": [],
   "source": []
  }
 ],
 "metadata": {
  "kernelspec": {
   "display_name": "Python 3 (ipykernel)",
   "language": "python",
   "name": "python3"
  },
  "language_info": {
   "codemirror_mode": {
    "name": "ipython",
    "version": 3
   },
   "file_extension": ".py",
   "mimetype": "text/x-python",
   "name": "python",
   "nbconvert_exporter": "python",
   "pygments_lexer": "ipython3",
   "version": "3.10.8"
  }
 },
 "nbformat": 4,
 "nbformat_minor": 5
}
